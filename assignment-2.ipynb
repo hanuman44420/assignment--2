{
  "nbformat": 4,
  "nbformat_minor": 0,
  "metadata": {
    "colab": {
      "name": "Untitled4.ipynb",
      "provenance": [],
      "collapsed_sections": []
    },
    "kernelspec": {
      "name": "python3",
      "display_name": "Python 3"
    },
    "language_info": {
      "name": "python"
    }
  },
  "cells": [
    {
      "cell_type": "code",
      "execution_count": null,
      "metadata": {
        "id": "M0147joSP9b1"
      },
      "outputs": [],
      "source": [
        "import cv2\n",
        "import numpy as np\n",
        "\n",
        "img = cv2.imread(\"/content/drive/MyDrive/H. N./Hanuman.jpg\")\n",
        "r = cv2.selectROI(img)\n",
        "print(r)\n",
        "img1 = img\n",
        "for i in range(r[1],r[3]):\n",
        "    for j in range(r[0],r[2]):\n",
        "        for k in range(0,3):\n",
        "            img1[i][j][k]=0\n",
        "cv2.imwrite('blk.jpg', img1)\n",
        "cv2.waitKey(0)\n",
        "cv2.destroyAllWindows()"
      ]
    }
  ]
}